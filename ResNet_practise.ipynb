{
  "nbformat": 4,
  "nbformat_minor": 0,
  "metadata": {
    "colab": {
      "name": "ResNet_practise.ipynb",
      "provenance": [],
      "collapsed_sections": [],
      "authorship_tag": "ABX9TyPb7hhJ15fArpQmBMvPTYME",
      "include_colab_link": true
    },
    "kernelspec": {
      "name": "python3",
      "display_name": "Python 3"
    }
  },
  "cells": [
    {
      "cell_type": "markdown",
      "metadata": {
        "id": "view-in-github",
        "colab_type": "text"
      },
      "source": [
        "<a href=\"https://colab.research.google.com/github/akshayjain777/AI/blob/master/ResNet_practise.ipynb\" target=\"_parent\"><img src=\"https://colab.research.google.com/assets/colab-badge.svg\" alt=\"Open In Colab\"/></a>"
      ]
    },
    {
      "cell_type": "code",
      "metadata": {
        "id": "B2OsaMs-J-kp",
        "colab_type": "code",
        "colab": {}
      },
      "source": [
        "import torch\n",
        "import torch.nn as nn\n",
        "import torch.nn.functional as F ## activation function\n",
        "import torchvision ##contains dataset\n",
        "import pdb\n",
        "\n",
        "class baseBlock(torch.nn.Module):\n",
        "  expansion=1\n",
        "  def __init__(self,input_planes,planes,stride=1,dim_change=None):\n",
        "    super(baseBlock, self).__init__()\n",
        "    #declare convolution layers with batch norms\n",
        "    self.conv1 = torch.nn.Conv2d(input_planes,planes,stride=stride,kernel_size=3,padding=1)\n",
        "    self.bn1= torch.nn.BatchNorm2d(planes)\n",
        "    self.conv2 = torch.nn.Conv2d(planes,planes,stride=1,kernel_size=3,padding=1)\n",
        "    self.bn2=torch.nn.BatchNorm2d(planes)\n",
        "    self.dim_change=dim_change\n",
        "  def forward(self,x):\n",
        "    #save the residue\n",
        "    res = x\n",
        "    output=F.relu(self.bn1(self.conv1(x)))\n",
        "    output=self.bn2(self.conv2(output))\n",
        "\n",
        "    if self.dim_change is not None:\n",
        "      res=self.dim_change(res)\n",
        "\n",
        "    output += res\n",
        "    output= F.relu(output)\n",
        "\n",
        "    return output\n",
        "\n",
        "class bottleNeck(torch.nn.Module):\n",
        "  expansion=4\n",
        "  def __init__(self,input_planes,planes,stride=1,dim_change=None):\n",
        "    super(bottleNeck,self).__init__()\n",
        "    self.conv1 = torch.nn.Conv2d(input_planes,planes,kernel_size=1,stride=1)\n",
        "    self.bn1=torch.nn.BatchNorm2d(planes)\n",
        "    self.conv2 = torch.nn.Conv2d(planes,planes,kernel_size=3,stride=stride,padding=1)\n",
        "    self.bn2= torch.nn.BatchNorm2d(planes)\n",
        "    self.conv3= torch.nn.Conv2d(planes,planes*self.expansion,kernel_size=1)\n",
        "    self.dim_change=dim_change\n",
        "  \n",
        "  def forward(self,x):\n",
        "    res=x\n",
        "    output=F.relu(self.bn1(self.conv1(x)))\n",
        "    output=F.relu(self.bn2(self.conv2(output)))\n",
        "    output= self.bn3(self.conv3(output))\n",
        "\n",
        "    if self.dim_change is not None:\n",
        "      res=self.dim_change(res)\n",
        "\n",
        "    output += res\n",
        "    output= F.relu(output)\n",
        "\n",
        "    return output\n",
        "\n",
        "class ResNet(torch.nn.Module):\n",
        "  def __init__(self,block,num_layers,classes=10):\n",
        "    super(ResNet,self).__init__()\n",
        "    #according to research paper\n",
        "    self.input_planes=64\n",
        "    self.conv1= torch.nn.Conv2d(3,64,kernel_size=3,stride=1,padding=1)\n",
        "    self.bn1= torch.nn.BatchNorm2d(64)\n",
        "    self.layer1 = self._layer(block,64,num_layers[0],stride=1)\n",
        "    self.layer2 =  self._layer(block,128,num_layers[1],stride=2)\n",
        "    self.layer3 = self._layer(block,256,num_layers[2],stride=2)\n",
        "    self.layers4 = self._layer(block,512,num_layers[3],stride=2)\n",
        "    self.averagePool = torch.nn.AvgPool2d(kernel_size=4,stride=1)\n",
        "    self.fc=torch.nn.Linear(512*block.expansion,classes)\n",
        "\n",
        "  def _layer(self,block,planes,num_layers,stride=1):\n",
        "    dim_change=None\n",
        "    if stride!=1 or planes !=self.input_planes*block.expansion:\n",
        "      dim_change = torch.nn.Sequential(torch.nn.Conv2d(self.input_planes,planes*block.expansion,kernel_xize=1,stride=stride),torch.nn.BatchNorm2d(planes*block.expansion))\n",
        "    \n",
        "    netLayers= []\n",
        "    netlayers.append(block(self.input_planes,planes,stride=stride,dim_change=dim_change))\n",
        "    self.input_palnes= planes * block.expansion\n",
        "    for i in range(1,num_layers):\n",
        "      netLayers.append(block(self.input_planes,planes))\n",
        "      self.input_planes= planes * block.expansion\n",
        "    \n",
        "    return torch.nn.Sequential(*netLayers)\n",
        "  \n",
        "  def forward(self,x):\n",
        "    x= F.relu(self.bn1(self.conv1(x)))\n",
        "\n",
        "    x=self.layer1(x)\n",
        "    x=self.layer2(x)\n",
        "    x=self.layer3(x)\n",
        "    x=self.layer4(x)\n",
        "\n",
        "    x=F.avg_pool2d(x,4)\n",
        "    x=x.view(x.size(0),-1)\n",
        "    x=self.fc(x)\n",
        "\n",
        "    return x\n",
        "  def test():\n",
        "    #to convert data from PIL to tensor\n",
        "\n",
        "    transform= transforms.Compose(\n",
        "        [transforms.ToTensor(),\n",
        "         transforms.Normalize((0.5,0.5,0.5),(0.5,0.5,0.5))]\n",
        "    )\n",
        "\n",
        "    #Load train and test\n",
        "\n",
        "    train=torchvision.datasets.CIFAR10(root='./data',train=True,download=True,transform=transform)\n",
        "    trainset= torch.utils.data.DataLoader(train,batch_size=128,shuffle=True)\n",
        "\n",
        "    test=torchvision.datasets.CIFAR10(root='./data',train=True,download=True,transform=transform)\n",
        "    testset= torch.utils.data.DataLoader(test,batch_size=128,shuffle=True)\n",
        "\n",
        "    device=torch.device(\"cuda:0\" if torch.cuda.is_available() else \"cpu\")\n",
        "    print(device)\n",
        "\n",
        "\n",
        "  \n"
      ],
      "execution_count": 0,
      "outputs": []
    },
    {
      "cell_type": "code",
      "metadata": {
        "id": "wqXjRfdjQmr0",
        "colab_type": "code",
        "colab": {
          "base_uri": "https://localhost:8080/",
          "height": 34
        },
        "outputId": "c9834afc-b323-4d9b-aab6-15968764fa53"
      },
      "source": [
        "    device=torch.device(\"cuda:0\" if torch.cuda.is_available() else \"cpu\")\n",
        "    print(device)"
      ],
      "execution_count": 2,
      "outputs": [
        {
          "output_type": "stream",
          "text": [
            "cpu\n"
          ],
          "name": "stdout"
        }
      ]
    },
    {
      "cell_type": "code",
      "metadata": {
        "id": "glhxu1GzQvDt",
        "colab_type": "code",
        "colab": {
          "base_uri": "https://localhost:8080/",
          "height": 129
        },
        "outputId": "6526b926-13a4-437e-b450-3dc1bd5f6d62"
      },
      "source": [
        "#ResNet 50\n",
        "net=ResNet(bottleNeck,[3,4,6,3]) \n",
        "net.to(device)\n",
        "costFunc= torch.nnCrossEntropyLoss()\n",
        "optimizer= torch.optim.SGD(net.parameters(),lr=0.02,momentum=0.9)\n",
        "\n",
        "for i in range(100):\n",
        "  class=0\n",
        "  for i,batch in enumerate(trainset,0):\n",
        "    data.output = batch\n",
        "    data.output=data.to(device),output.to(device)\n",
        "    prediction = net(data)\n",
        "\n",
        "    loss=costFunc(prediction,output)\n",
        "    class=loss.item()\n",
        "\n",
        "    optimizer.zero_grad()\n",
        "    loss.backwad()\n",
        "    optimizer.step()\n",
        "\n",
        "    if i%100 ==0:\n",
        "      print('[%d %d]%'(epoch+1,i+1,class/1000))\n",
        "      class=0\n"
      ],
      "execution_count": 3,
      "outputs": [
        {
          "output_type": "error",
          "ename": "SyntaxError",
          "evalue": "ignored",
          "traceback": [
            "\u001b[0;36m  File \u001b[0;32m\"<ipython-input-3-cb34639f7e98>\"\u001b[0;36m, line \u001b[0;32m8\u001b[0m\n\u001b[0;31m    class=0\u001b[0m\n\u001b[0m         ^\u001b[0m\n\u001b[0;31mSyntaxError\u001b[0m\u001b[0;31m:\u001b[0m invalid syntax\n"
          ]
        }
      ]
    },
    {
      "cell_type": "code",
      "metadata": {
        "id": "x-QapcfKsrcV",
        "colab_type": "code",
        "colab": {
          "base_uri": "https://localhost:8080/",
          "height": 714
        },
        "outputId": "40af1753-4ad4-4765-f07a-ae1c35793194"
      },
      "source": [
        "import torch\n",
        "import torch.nn as nn\n",
        "import torch.nn.functional as F ## activation function\n",
        "import torchvision ##contains dataset\n",
        "import pdb\n",
        "\n",
        "torch.randn(1, 3, 32, 32)"
      ],
      "execution_count": 3,
      "outputs": [
        {
          "output_type": "execute_result",
          "data": {
            "text/plain": [
              "tensor([[[[ 1.1818e+00,  1.2564e-01, -7.1512e-01,  ..., -2.0236e+00,\n",
              "            1.0994e+00,  1.5270e-01],\n",
              "          [-3.9848e-01, -1.9114e+00,  5.1754e-01,  ..., -1.0271e+00,\n",
              "           -1.2799e+00,  4.4580e-01],\n",
              "          [ 2.0552e+00,  5.8987e-01, -1.2892e-01,  ...,  2.0183e+00,\n",
              "           -8.0929e-01, -1.8844e+00],\n",
              "          ...,\n",
              "          [ 8.4641e-01, -3.2796e-01,  7.0259e-01,  ..., -1.3281e+00,\n",
              "           -1.2581e+00, -3.2875e-01],\n",
              "          [-4.5183e-01,  1.8537e-02,  4.5907e-01,  ..., -1.2881e+00,\n",
              "           -7.7791e-01, -2.8893e-01],\n",
              "          [-2.6514e-03,  1.0182e-01, -4.6682e-01,  ..., -1.1092e+00,\n",
              "            7.1665e-01, -2.3300e-01]],\n",
              "\n",
              "         [[-1.0246e+00, -5.5837e-01, -1.2189e+00,  ..., -4.9854e-01,\n",
              "            1.7785e+00,  4.4672e-01],\n",
              "          [ 5.0185e-01,  5.7404e-01, -8.8522e-01,  ..., -1.0465e-01,\n",
              "           -2.0561e+00,  1.9382e-01],\n",
              "          [ 1.4283e+00,  6.3552e-01,  1.3217e+00,  ...,  1.2668e+00,\n",
              "            1.0689e+00,  3.9451e-01],\n",
              "          ...,\n",
              "          [-1.1501e+00,  5.1708e-01,  2.8172e-01,  ..., -6.0612e-01,\n",
              "            2.1100e+00,  1.2512e+00],\n",
              "          [-1.0112e+00,  4.5993e-01, -1.5843e+00,  ...,  8.5423e-01,\n",
              "           -5.6178e-01, -5.5221e-01],\n",
              "          [-5.3533e-01, -9.3559e-01, -3.5133e-02,  ..., -1.1197e+00,\n",
              "            1.9028e+00,  6.7513e-01]],\n",
              "\n",
              "         [[-1.3766e+00, -6.5814e-01, -5.5770e-01,  ...,  4.1409e-01,\n",
              "           -4.4015e-04,  5.3309e-01],\n",
              "          [-7.4267e-01,  3.7767e-01,  1.2687e+00,  ..., -4.7181e-01,\n",
              "            1.2419e+00,  8.4944e-01],\n",
              "          [-1.1870e+00,  1.3739e+00, -3.2574e-01,  ..., -6.9967e-01,\n",
              "            8.2044e-01, -7.1330e-01],\n",
              "          ...,\n",
              "          [-1.2312e-01, -1.3412e+00, -1.6449e+00,  ..., -3.7589e-01,\n",
              "           -3.6643e-01, -1.7413e+00],\n",
              "          [-2.8860e-01, -6.5553e-01, -1.4652e+00,  ...,  1.3133e+00,\n",
              "            1.2476e+00,  1.7769e+00],\n",
              "          [-9.5510e-01, -1.5436e-01,  1.1690e+00,  ...,  9.4021e-01,\n",
              "           -8.6368e-01, -1.8803e-01]]]])"
            ]
          },
          "metadata": {
            "tags": []
          },
          "execution_count": 3
        }
      ]
    },
    {
      "cell_type": "code",
      "metadata": {
        "id": "wafeqIC0ssmc",
        "colab_type": "code",
        "colab": {}
      },
      "source": [
        ""
      ],
      "execution_count": 0,
      "outputs": []
    }
  ]
}